{
 "cells": [
  {
   "cell_type": "code",
   "execution_count": 1,
   "metadata": {},
   "outputs": [],
   "source": [
    "x =\"Lemmatization considers the context and converts the word to its meaningful base form, which is called Lemma. \" \n",
    "x+=\"Sometimes, the same word can have multiple different Lemmas.\"\n",
    "\n",
    "y =\"Lemmatization converts a word to its base form in a meaningful way by considering the context. This base form is also\"\n",
    "y+=\"called lemma\""
   ]
  },
  {
   "cell_type": "markdown",
   "metadata": {},
   "source": [
    "# Similarity Detection on unoptimized data "
   ]
  },
  {
   "cell_type": "code",
   "execution_count": 2,
   "metadata": {
    "scrolled": true
   },
   "outputs": [
    {
     "name": "stdout",
     "output_type": "stream",
     "text": [
      "X: Lemmatization considers the context and converts the word to its meaningful base form, which is called Lemma. Sometimes, the same word can have multiple different Lemmas. \n",
      "\n",
      "Y: Lemmatization converts a word to its base form in a meaningful way by considering the context. This base form is alsocalled lemma \n",
      "\n",
      "\n",
      "similarity:  0.5366563145999494 \n",
      "\n",
      "\n",
      "X: {'meaningful', 'called', 'considers', 'can', 'Lemmas', 'the', 'is', 'Lemma', 'base', 'converts', 'Lemmatization', 'to', ',', 'form', 'context', 'and', 'Sometimes', 'multiple', 'its', 'same', 'word', 'different', 'have', 'which', '.'}\n",
      "Y: {'considering', 'meaningful', 'alsocalled', 'the', 'is', 'by', 'way', 'base', 'lemma', 'Lemmatization', 'converts', 'to', 'a', 'form', 'context', 'This', 'in', 'its', 'word', '.'}\n"
     ]
    }
   ],
   "source": [
    "from nltk.tokenize import word_tokenize\n",
    "\n",
    "X=x\n",
    "Y=y\n",
    "\n",
    "l1 =[];l2 =[]\n",
    "\n",
    "# tokenization\n",
    "X_list = word_tokenize(X) \n",
    "Y_list = word_tokenize(Y)\n",
    "  \n",
    "X_set = {w for w in X_list} \n",
    "Y_set = {w for w in Y_list}\n",
    "  \n",
    "\n",
    "rvector = X_set.union(Y_set) \n",
    "for w in rvector:\n",
    "    if w in X_set: l1.append(1) \n",
    "    else: l1.append(0)\n",
    "    if w in Y_set: l2.append(1)\n",
    "    else: l2.append(0)\n",
    "c = 0\n",
    "\n",
    "for i in range(len(rvector)):\n",
    "        c+= l1[i]*l2[i]\n",
    "cosine = c / float((sum(l1)*sum(l2))**0.5)\n",
    "\n",
    "print(\"X:\",X,\"\\n\")\n",
    "print(\"Y:\",Y,\"\\n\\n\")\n",
    "print(\"similarity: \", cosine,\"\\n\\n\")\n",
    "print(\"X:\",X_set)\n",
    "print(\"Y:\",Y_set)\n",
    "\n",
    "p1=cosine"
   ]
  },
  {
   "cell_type": "markdown",
   "metadata": {},
   "source": [
    "# Effect of removal of Stop words"
   ]
  },
  {
   "cell_type": "code",
   "execution_count": 3,
   "metadata": {},
   "outputs": [
    {
     "name": "stdout",
     "output_type": "stream",
     "text": [
      "X: Lemmatization considers the context and converts the word to its meaningful base form, which is called Lemma. Sometimes, the same word can have multiple different Lemmas. \n",
      "\n",
      "Y: Lemmatization converts a word to its base form in a meaningful way by considering the context. This base form is alsocalled lemma \n",
      "\n",
      "\n",
      "similarity:  0.5547001962252291 \n",
      "\n",
      "\n",
      "X: {'word', 'Lemmatization', 'form', 'Lemmas', '.', 'different', 'context', 'meaningful', 'called', 'Lemma', 'Sometimes', 'base', 'considers', 'converts', ',', 'multiple'}\n",
      "Y: {'alsocalled', 'word', 'Lemmatization', 'form', '.', 'context', 'This', 'considering', 'meaningful', 'way', 'base', 'lemma', 'converts'}\n"
     ]
    }
   ],
   "source": [
    "from nltk.corpus import stopwords\n",
    "from nltk.tokenize import word_tokenize\n",
    "\n",
    "X=x\n",
    "Y=y\n",
    "  \n",
    "\n",
    "X_list = word_tokenize(X) \n",
    "Y_list = word_tokenize(Y)\n",
    "  \n",
    "\n",
    "sw = stopwords.words('english') \n",
    "l1 =[];l2 =[]\n",
    "  \n",
    "\n",
    "X_set = {w for w in X_list if not w in sw} \n",
    "Y_set = {w for w in Y_list if not w in sw}\n",
    "  \n",
    "\n",
    "rvector = X_set.union(Y_set) \n",
    "for w in rvector:\n",
    "    if w in X_set: l1.append(1) # create a vector\n",
    "    else: l1.append(0)\n",
    "    if w in Y_set: l2.append(1)\n",
    "    else: l2.append(0)\n",
    "c = 0\n",
    "  \n",
    "# cosine formula \n",
    "for i in range(len(rvector)):\n",
    "        c+= l1[i]*l2[i]\n",
    "cosine = c / float((sum(l1)*sum(l2))**0.5)\n",
    "\n",
    "print(\"X:\",X,\"\\n\")\n",
    "print(\"Y:\",Y,\"\\n\\n\")\n",
    "print(\"similarity: \", cosine,\"\\n\\n\")\n",
    "print(\"X:\",X_set)\n",
    "print(\"Y:\",Y_set)\n",
    "\n",
    "p2=cosine"
   ]
  },
  {
   "cell_type": "markdown",
   "metadata": {},
   "source": [
    "# Effects of Case"
   ]
  },
  {
   "cell_type": "code",
   "execution_count": 4,
   "metadata": {
    "scrolled": true
   },
   "outputs": [
    {
     "name": "stdout",
     "output_type": "stream",
     "text": [
      "X: lemmatization considers the context and converts the word to its meaningful base form, which is called lemma. sometimes, the same word can have multiple different lemmas. \n",
      "\n",
      "Y: lemmatization converts a word to its base form in a meaningful way by considering the context. this base form is alsocalled lemma \n",
      "\n",
      "\n",
      "similarity:  0.649519052838329 \n",
      "\n",
      "\n",
      "X: {'word', 'form', 'lemmas', '.', 'different', 'context', 'meaningful', 'called', 'lemma', 'sometimes', 'base', 'considers', 'converts', ',', 'multiple', 'lemmatization'}\n",
      "Y: {'alsocalled', 'word', 'form', '.', 'context', 'considering', 'meaningful', 'way', 'base', 'lemma', 'converts', 'lemmatization'}\n"
     ]
    }
   ],
   "source": [
    "X=x\n",
    "Y=y\n",
    "  \n",
    "#converting both to lower case\n",
    "X=X.lower()\n",
    "Y=Y.lower()\n",
    "\n",
    "\n",
    "# tokenization\n",
    "X_list = word_tokenize(X) \n",
    "Y_list = word_tokenize(Y)\n",
    "  \n",
    "# sw contains the list of stopwords\n",
    "sw = stopwords.words('english') \n",
    "l1 =[];l2 =[]\n",
    "  \n",
    "# remove stop words from the string\n",
    "X_set = {w for w in X_list if not w in sw} \n",
    "Y_set = {w for w in Y_list if not w in sw}\n",
    "  \n",
    "# form a set containing keywords of both strings \n",
    "rvector = X_set.union(Y_set) \n",
    "for w in rvector:\n",
    "    if w in X_set: l1.append(1) # create a vector\n",
    "    else: l1.append(0)\n",
    "    if w in Y_set: l2.append(1)\n",
    "    else: l2.append(0)\n",
    "c = 0\n",
    "  \n",
    "# cosine formula \n",
    "for i in range(len(rvector)):\n",
    "        c+= l1[i]*l2[i]\n",
    "cosine = c / float((sum(l1)*sum(l2))**0.5)\n",
    "\n",
    "print(\"X:\",X,\"\\n\")\n",
    "print(\"Y:\",Y,\"\\n\\n\")\n",
    "print(\"similarity: \", cosine,\"\\n\\n\")\n",
    "print(\"X:\",X_set)\n",
    "print(\"Y:\",Y_set)\n",
    "\n",
    "p3=cosine"
   ]
  },
  {
   "cell_type": "markdown",
   "metadata": {},
   "source": [
    "# Effect of lemmatization "
   ]
  },
  {
   "cell_type": "code",
   "execution_count": 5,
   "metadata": {},
   "outputs": [
    {
     "name": "stdout",
     "output_type": "stream",
     "text": [
      "X: lemmatization considers the context and converts the word to its meaningful base form, which is called lemma. sometimes, the same word can have multiple different lemmas. \n",
      "\n",
      "Y: lemmatization converts a word to its base form in a meaningful way by considering the context. this base form is alsocalled lemma \n",
      "\n",
      "\n",
      "similarity:  0.6708203932499369 \n",
      "\n",
      "\n",
      "X: {'word', 'form', '.', 'different', 'context', 'meaningful', 'called', 'lemma', 'sometimes', 'convert', 'base', 'considers', ',', 'multiple', 'lemmatization'}\n",
      "Y: {'alsocalled', 'word', 'form', '.', 'context', 'considering', 'meaningful', 'convert', 'way', 'base', 'lemma', 'lemmatization'}\n"
     ]
    }
   ],
   "source": [
    "from nltk.stem import WordNetLemmatizer\n",
    "  \n",
    "lemmatizer = WordNetLemmatizer()\n",
    "\n",
    "X=x\n",
    "Y=y\n",
    "  \n",
    "#converting both to lower case\n",
    "X=X.lower()\n",
    "Y=Y.lower()\n",
    "\n",
    "\n",
    "# tokenization\n",
    "X_list = word_tokenize(X) \n",
    "Y_list = word_tokenize(Y)\n",
    "  \n",
    "\n",
    "sw = stopwords.words('english') \n",
    "l1 =[];l2 =[]\n",
    "  \n",
    "#lemmatization \n",
    "X_set = {lemmatizer.lemmatize(w) for w in X_list if not w in sw} \n",
    "Y_set = {lemmatizer.lemmatize(w) for w in Y_list if not w in sw}\n",
    "  \n",
    "    \n",
    "rvector = X_set.union(Y_set) \n",
    "for w in rvector:\n",
    "    if w in X_set: l1.append(1) \n",
    "    else: l1.append(0)\n",
    "    if w in Y_set: l2.append(1)\n",
    "    else: l2.append(0)\n",
    "c = 0\n",
    "  \n",
    "# cosine formula \n",
    "for i in range(len(rvector)):\n",
    "        c+= l1[i]*l2[i]\n",
    "cosine = c / float((sum(l1)*sum(l2))**0.5)\n",
    "\n",
    "print(\"X:\",X,\"\\n\")\n",
    "print(\"Y:\",Y,\"\\n\\n\")\n",
    "print(\"similarity: \", cosine,\"\\n\\n\")\n",
    "print(\"X:\",X_set)\n",
    "print(\"Y:\",Y_set)\n",
    "\n",
    "p4=cosine"
   ]
  },
  {
   "cell_type": "code",
   "execution_count": 12,
   "metadata": {},
   "outputs": [
    {
     "data": {
      "text/plain": [
       "[<matplotlib.lines.Line2D at 0x13a25f33460>]"
      ]
     },
     "execution_count": 12,
     "metadata": {},
     "output_type": "execute_result"
    },
    {
     "data": {
      "image/png": "[encoded data removed]",
      "text/plain": [
       "<Figure size 432x288 with 1 Axes>"
      ]
     },
     "metadata": {
      "needs_background": "light"
     },
     "output_type": "display_data"
    }
   ],
   "source": [
    "import matplotlib.pyplot as plt\n",
    "x=[\"initial\",\"stopword removal\",\"case conversion\",\"lemmatization\"]\n",
    "y=[p1,p2,p3,p4]\n",
    "y=[100*v for v in y]\n",
    "plt.xlabel(\" Process \")\n",
    "plt.ylabel(\" Percentage \")\n",
    "plt.title(\" Improvement in similarity detection with data optimization\")\n",
    "plt.plot(x,y)"
   ]
  }
 ],
 "metadata": {
  "kernelspec": {
   "display_name": "Python 3",
   "language": "python",
   "name": "python3"
  },
  "language_info": {
   "codemirror_mode": {
    "name": "ipython",
    "version": 3
   },
   "file_extension": ".py",
   "mimetype": "text/x-python",
   "name": "python",
   "nbconvert_exporter": "python",
   "pygments_lexer": "ipython3",
   "version": "3.8.3"
  }
 },
 "nbformat": 4,
 "nbformat_minor": 4
}
