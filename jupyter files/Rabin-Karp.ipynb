{
 "cells": [
  {
   "cell_type": "markdown",
   "id": "d92f3f1d",
   "metadata": {},
   "source": [
    "### Class1: Class that handles Rolling Hash"
   ]
  },
  {
   "cell_type": "code",
   "execution_count": 1,
   "id": "92e018cd",
   "metadata": {},
   "outputs": [],
   "source": [
    "class rolling_hash:\n",
    "    def __init__(self, text, patternSize):\n",
    "       # print(\"0.in init\")\n",
    "        self.text = text\n",
    "        self.patternSize = patternSize\n",
    "        self.base = 26\n",
    "        self.window_start = 0\n",
    "        self.window_end = 0\n",
    "        self.mod = 5807\n",
    "        self.hash = self.get_hash(text, patternSize)\n",
    "        \n",
    "\n",
    "    def get_hash(self, text, patternSize):\n",
    "        #print(\"1.get_hash\")\n",
    "        hash_value = 0\n",
    "        for i in range(0, patternSize):\n",
    "            hash_value = (hash_value + (ord(self.text[i]) - 96)*(self.base**(patternSize - i - 1))) % self.mod #mod of pattern hash\n",
    "\n",
    "        self.window_start = 0\n",
    "        self.window_end = patternSize\n",
    "\n",
    "        return hash_value\n",
    "\n",
    "    def next_window(self):\n",
    "        #print(\"2.next_window\")\n",
    "        if self.window_end <= len(self.text) - 1:\n",
    "            self.hash -= (ord(self.text[self.window_start]) -96)*self.base**(self.patternSize-1)\n",
    "\n",
    "            self.hash *= self.base\n",
    "            self.hash += ord(self.text[self.window_end]) - 96\n",
    "            #print(  ord(self.text[self.window_end])- 96)           #hash end of window\n",
    "            self.hash %= self.mod                                  #mod hash\n",
    "            self.window_start += 1\n",
    "            self.window_end += 1\n",
    "            return True\n",
    "        return False\n"
   ]
  },
  {
   "cell_type": "markdown",
   "id": "a9f18aac",
   "metadata": {},
   "source": [
    "### Class2: Class that handles string preprocessing and similarity calculation"
   ]
  },
  {
   "cell_type": "code",
   "execution_count": 2,
   "id": "9699aaf6",
   "metadata": {
    "scrolled": true
   },
   "outputs": [],
   "source": [
    "import nltk\n",
    "from nltk.corpus import stopwords\n",
    "from nltk.tokenize import word_tokenize\n",
    "from nltk.stem import PorterStemmer\n",
    "from nltk.stem import LancasterStemmer\n",
    "# import rabin_karp\n",
    "import numpy as np\n",
    "from os.path import dirname, join\n",
    "import re\n",
    "import string\n",
    "\n",
    "\n",
    "class PlagiarismChecker:\n",
    "    def __init__(self, file_a, file_b,kgram):\n",
    "        self.file_a = file_a\n",
    "        self.file_b = file_b\n",
    "        self.hash_table = {\"a\": [], \"b\": []}\n",
    "        self.k_gram = kgram\n",
    "        content_a = self.get_file_content(self.file_a)\n",
    "        content_b = self.get_file_content(self.file_b)\n",
    "        self.calculate_hash(content_a, \"a\")\n",
    "        self.calculate_hash(content_b, \"b\")\n",
    "        \n",
    "        #print(self.hash_table[\"a\"],'\\n')     #printing hash tables\n",
    "        #print(self.hash_table[\"b\"],'\\n')\n",
    "    \n",
    "        \n",
    "\n",
    "    def calculate_hash(self, content, doc_type):\n",
    "        text = self.prepare_content(content)\n",
    "        text = \"\".join(text)\n",
    "        #print(text,'\\n')\n",
    "\n",
    "        text = rolling_hash(text, self.k_gram)                   ### link\n",
    "        for _ in range(len(content) - self.k_gram + 1):\n",
    "            self.hash_table[doc_type].append(text.hash)\n",
    "            if text.next_window() == False:\n",
    "                break\n",
    "\n",
    "    def get_rate(self):\n",
    "        return self.calaculate_plagiarism_rate(self.hash_table)\n",
    "\n",
    "    def calaculate_plagiarism_rate(self, hash_table):\n",
    "        th_a = len(hash_table[\"a\"])\n",
    "        th_b = len(hash_table[\"b\"])\n",
    "        a = hash_table[\"a\"]\n",
    "        b = hash_table[\"b\"]\n",
    "        sh = len(np.intersect1d(a, b))\n",
    "        # print(sh, a, b)\n",
    "        #print(sh, th_a, th_b)\n",
    "\n",
    "        # Formular for plagiarism rate\n",
    "        # P = (2 * SH / THA * THB ) 100%\n",
    "        p = (float(2 * sh)/(th_a + th_b)) * 100\n",
    "        return p\n",
    "\n",
    "    def get_file_content(self, filename):\n",
    "        file = open(filename, 'r+', encoding=\"utf-8\")\n",
    "        return file.read()\n",
    "\n",
    "    def prepare_content(self, content):\n",
    "        content=content.translate(str.maketrans('', '', string.punctuation))\n",
    "        stop_words = set(stopwords.words('english'))\n",
    "        word_tokens = word_tokenize(content)\n",
    "        filtered_content = []\n",
    "        porter = PorterStemmer()\n",
    "        for w in word_tokens:\n",
    "            if w not in stop_words:\n",
    "                w = w.lower()\n",
    "                word = porter.stem(w)\n",
    "                filtered_content.append(word)\n",
    "    \n",
    "        return filtered_content\n",
    "    \n",
    "\n",
    "\n",
    "\n"
   ]
  },
  {
   "cell_type": "markdown",
   "id": "c7207541",
   "metadata": {},
   "source": [
    "### Note for backend: just try to form an algorithm to access paths of all possible file combination and pass it to the following function, import first two classes and ignore rest of the kernels"
   ]
  },
  {
   "cell_type": "code",
   "execution_count": 3,
   "id": "9dbf3db2",
   "metadata": {},
   "outputs": [],
   "source": [
    "from pathlib import Path\n",
    "# file1 = Path(\"a.txt\")\n",
    "# file2 = Path(\"b.txt\")\n",
    "\n",
    "def Rabin_Karp(file1,file2):\n",
    "    kgrams=10\n",
    "    checker = PlagiarismChecker(file1,file2,50)\n",
    "    rate=checker.get_rate()\n",
    "    print('Similarity: ',rate,'%')\n",
    "    return rate\n",
    "\n",
    "#Rabin_Karp(file1,file2)"
   ]
  },
  {
   "cell_type": "markdown",
   "id": "169d8ccb",
   "metadata": {},
   "source": [
    "###  For one value of k-gram"
   ]
  },
  {
   "cell_type": "code",
   "execution_count": 4,
   "id": "acfb4063",
   "metadata": {
    "scrolled": false
   },
   "outputs": [
    {
     "name": "stdout",
     "output_type": "stream",
     "text": [
      "Similarity:  46.76923076923077 %\n"
     ]
    }
   ],
   "source": [
    "from pathlib import Path\n",
    "# file1 = Path(\"C:/Users/Shawn Frost/Desktop/BTP/a.txt\")\n",
    "# file2 = Path(\"C:/Users/Shawn Frost/Desktop/BTP/b.txt\")\n",
    "file1 = Path(\"a.txt\")\n",
    "file2 = Path(\"b.txt\")\n",
    "\n",
    "checker = PlagiarismChecker(file1,file2,50) #f1,f2,kgram\n",
    "# PlagiarismChecker.printme()\n",
    "print('Similarity: ',checker.get_rate(),'%')"
   ]
  },
  {
   "cell_type": "markdown",
   "id": "a7206b8f",
   "metadata": {},
   "source": [
    "### For a range of kgram values"
   ]
  },
  {
   "cell_type": "code",
   "execution_count": 5,
   "id": "c8cd95cf",
   "metadata": {
    "scrolled": true
   },
   "outputs": [
    {
     "data": {
      "text/plain": [
       "Text(0.5, 1.0, 'k-gram vs %similairty')"
      ]
     },
     "execution_count": 5,
     "metadata": {},
     "output_type": "execute_result"
    },
    {
     "data": {
      "image/png": "[encoded data removed]",
      "text/plain": [
       "<Figure size 432x288 with 1 Axes>"
      ]
     },
     "metadata": {
      "needs_background": "light"
     },
     "output_type": "display_data"
    }
   ],
   "source": [
    "from pathlib import Path\n",
    "import matplotlib.pyplot as plt\n",
    "file1 = Path(\"a.txt\")\n",
    "file2 = Path(\"b.txt\")\n",
    "val=[0]\n",
    "for x in range(1,200):\n",
    "    val.append(PlagiarismChecker(file1,file2,x).get_rate())\n",
    "   # print(x,val[x])\n",
    "plt.plot(val)\n",
    "plt.xlabel('k-gram')\n",
    "plt.ylabel('%similarity')\n",
    "plt.title('k-gram vs %similairty')"
   ]
  },
  {
   "cell_type": "code",
   "execution_count": 6,
   "id": "0cb4e900",
   "metadata": {},
   "outputs": [],
   "source": [
    "#PlagiarismChecker(file1,file2,100).hash_table['a']"
   ]
  },
  {
   "cell_type": "markdown",
   "id": "43d7a9e9",
   "metadata": {},
   "source": [
    "### Content of uploaded two files"
   ]
  },
  {
   "cell_type": "code",
   "execution_count": 7,
   "id": "a9cb7ca5",
   "metadata": {},
   "outputs": [],
   "source": [
    "file1 = Path(\"a.txt\")\n",
    "file2 = Path(\"b.txt\")"
   ]
  },
  {
   "cell_type": "code",
   "execution_count": 8,
   "id": "e0371570",
   "metadata": {},
   "outputs": [
    {
     "data": {
      "text/plain": [
       "'Lemmatization considers the context and converts the word to its\\n meaningful base form, which is called Lemma. \\n\\nSometimes, the same word can have multiple different Lemmas. \\nLemmatization usually refers to doing things properly with the \\nuse of a vocabulary and morphological analysis of words, normally \\naiming to remove inflectional endings only and to return the base \\nor dictionary form of a word, which is known as the lemma.'"
      ]
     },
     "execution_count": 8,
     "metadata": {},
     "output_type": "execute_result"
    }
   ],
   "source": [
    "f=open(file1,'r')\n",
    "f.read()"
   ]
  },
  {
   "cell_type": "code",
   "execution_count": 9,
   "id": "367bd9f6",
   "metadata": {},
   "outputs": [
    {
     "data": {
      "text/plain": [
       "'Lemmatization converts a word to its base form in a\\nmeaningful way by considering the context. This base \\nform is also called lemma. A word can have more than \\none Lemmas sometimes. Lemmatization usually refers to\\n doing things properly with the use of a vocabulary and \\nmorphological analysis of words, normally aiming to \\nremove inflectional endings only and to return the base \\nor dictionary form of a word, which is known as the lemma.'"
      ]
     },
     "execution_count": 9,
     "metadata": {},
     "output_type": "execute_result"
    }
   ],
   "source": [
    "f2=open(file2,'r')\n",
    "f2.read()"
   ]
  }
 ],
 "metadata": {
  "kernelspec": {
   "display_name": "Python 3 (ipykernel)",
   "language": "python",
   "name": "python3"
  },
  "language_info": {
   "codemirror_mode": {
    "name": "ipython",
    "version": 3
   },
   "file_extension": ".py",
   "mimetype": "text/x-python",
   "name": "python",
   "nbconvert_exporter": "python",
   "pygments_lexer": "ipython3",
   "version": "3.8.11"
  }
 },
 "nbformat": 4,
 "nbformat_minor": 5
}
